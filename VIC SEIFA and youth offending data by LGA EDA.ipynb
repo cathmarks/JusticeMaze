{
 "cells": [
  {
   "cell_type": "code",
   "execution_count": 46,
   "metadata": {},
   "outputs": [],
   "source": [
    "import pandas as pd\n",
    "import numpy as np\n",
    "import matplotlib.pyplot as plt"
   ]
  },
  {
   "cell_type": "code",
   "execution_count": 47,
   "metadata": {},
   "outputs": [],
   "source": [
    "seifa_lga_data = pd.read_excel(\"LGA youth crime3.xlsx\")"
   ]
  },
  {
   "cell_type": "code",
   "execution_count": 48,
   "metadata": {},
   "outputs": [
    {
     "data": {
      "text/html": [
       "<div>\n",
       "<style scoped>\n",
       "    .dataframe tbody tr th:only-of-type {\n",
       "        vertical-align: middle;\n",
       "    }\n",
       "\n",
       "    .dataframe tbody tr th {\n",
       "        vertical-align: top;\n",
       "    }\n",
       "\n",
       "    .dataframe thead th {\n",
       "        text-align: right;\n",
       "    }\n",
       "</style>\n",
       "<table border=\"1\" class=\"dataframe\">\n",
       "  <thead>\n",
       "    <tr style=\"text-align: right;\">\n",
       "      <th></th>\n",
       "      <th>LGA</th>\n",
       "      <th>Number</th>\n",
       "      <th>Lga Name16</th>\n",
       "      <th>Ste Code16</th>\n",
       "      <th>Ste Name16</th>\n",
       "      <th>SEIFA</th>\n",
       "      <th>Unnamed: 6</th>\n",
       "      <th>Unnamed: 7</th>\n",
       "      <th>Unnamed: 8</th>\n",
       "      <th>Unnamed: 9</th>\n",
       "      <th>Unnamed: 10</th>\n",
       "      <th>Aged 10-19</th>\n",
       "    </tr>\n",
       "  </thead>\n",
       "  <tbody>\n",
       "    <tr>\n",
       "      <th>0</th>\n",
       "      <td>Alpine</td>\n",
       "      <td>25</td>\n",
       "      <td>Alpine (S)</td>\n",
       "      <td>2</td>\n",
       "      <td>Victoria</td>\n",
       "      <td>970</td>\n",
       "      <td>Victoria</td>\n",
       "      <td>20110</td>\n",
       "      <td>Alpine (S)</td>\n",
       "      <td>835</td>\n",
       "      <td>701</td>\n",
       "      <td>1536</td>\n",
       "    </tr>\n",
       "    <tr>\n",
       "      <th>1</th>\n",
       "      <td>Ararat</td>\n",
       "      <td>26</td>\n",
       "      <td>Ararat (RC)</td>\n",
       "      <td>2</td>\n",
       "      <td>Victoria</td>\n",
       "      <td>938</td>\n",
       "      <td>Victoria</td>\n",
       "      <td>20260</td>\n",
       "      <td>Ararat (RC)</td>\n",
       "      <td>702</td>\n",
       "      <td>593</td>\n",
       "      <td>1295</td>\n",
       "    </tr>\n",
       "    <tr>\n",
       "      <th>2</th>\n",
       "      <td>Ballarat</td>\n",
       "      <td>534</td>\n",
       "      <td>Ballarat (C)</td>\n",
       "      <td>2</td>\n",
       "      <td>Victoria</td>\n",
       "      <td>969</td>\n",
       "      <td>Victoria</td>\n",
       "      <td>20570</td>\n",
       "      <td>Ballarat (C)</td>\n",
       "      <td>6790</td>\n",
       "      <td>6661</td>\n",
       "      <td>13451</td>\n",
       "    </tr>\n",
       "    <tr>\n",
       "      <th>3</th>\n",
       "      <td>Banyule</td>\n",
       "      <td>340</td>\n",
       "      <td>Banyule (C)</td>\n",
       "      <td>2</td>\n",
       "      <td>Victoria</td>\n",
       "      <td>1044</td>\n",
       "      <td>Victoria</td>\n",
       "      <td>20660</td>\n",
       "      <td>Banyule (C)</td>\n",
       "      <td>7486</td>\n",
       "      <td>7045</td>\n",
       "      <td>14531</td>\n",
       "    </tr>\n",
       "    <tr>\n",
       "      <th>4</th>\n",
       "      <td>Bass Coast</td>\n",
       "      <td>86</td>\n",
       "      <td>Bass Coast (S)</td>\n",
       "      <td>2</td>\n",
       "      <td>Victoria</td>\n",
       "      <td>960</td>\n",
       "      <td>Victoria</td>\n",
       "      <td>20740</td>\n",
       "      <td>Bass Coast (S)</td>\n",
       "      <td>1989</td>\n",
       "      <td>1673</td>\n",
       "      <td>3662</td>\n",
       "    </tr>\n",
       "  </tbody>\n",
       "</table>\n",
       "</div>"
      ],
      "text/plain": [
       "          LGA  Number      Lga Name16  Ste Code16 Ste Name16  SEIFA  \\\n",
       "0      Alpine      25      Alpine (S)           2   Victoria    970   \n",
       "1     Ararat       26     Ararat (RC)           2   Victoria    938   \n",
       "2    Ballarat     534    Ballarat (C)           2   Victoria    969   \n",
       "3     Banyule     340     Banyule (C)           2   Victoria   1044   \n",
       "4  Bass Coast      86  Bass Coast (S)           2   Victoria    960   \n",
       "\n",
       "  Unnamed: 6  Unnamed: 7      Unnamed: 8  Unnamed: 9  Unnamed: 10  Aged 10-19  \n",
       "0   Victoria       20110      Alpine (S)         835          701        1536  \n",
       "1   Victoria       20260     Ararat (RC)         702          593        1295  \n",
       "2   Victoria       20570    Ballarat (C)        6790         6661       13451  \n",
       "3   Victoria       20660     Banyule (C)        7486         7045       14531  \n",
       "4   Victoria       20740  Bass Coast (S)        1989         1673        3662  "
      ]
     },
     "execution_count": 48,
     "metadata": {},
     "output_type": "execute_result"
    }
   ],
   "source": [
    "seifa_lga_data.head()"
   ]
  },
  {
   "cell_type": "code",
   "execution_count": 49,
   "metadata": {},
   "outputs": [],
   "source": [
    "seifa_lga_data = seifa_lga_data[['LGA', 'Number', 'SEIFA','Aged 10-19']]"
   ]
  },
  {
   "cell_type": "code",
   "execution_count": 50,
   "metadata": {},
   "outputs": [],
   "source": [
    "seifa_lga_data.columns=['LGA','Youth Offences','SEIFA','Youth Population']"
   ]
  },
  {
   "cell_type": "code",
   "execution_count": 51,
   "metadata": {},
   "outputs": [
    {
     "data": {
      "image/png": "[encoded data removed]",
      "text/plain": [
       "<matplotlib.figure.Figure at 0x11aa54208>"
      ]
     },
     "metadata": {},
     "output_type": "display_data"
    }
   ],
   "source": [
    "x=seifa_lga_data['SEIFA']\n",
    "y=seifa_lga_data['Youth Offences']/seifa_lga_data['Youth Population']*1000\n",
    "\n",
    "# Plot\n",
    "plt.scatter(x, y, alpha=0.5)\n",
    "plt.title('Scatter plot of offending per 1000 youth')\n",
    "plt.xlabel('SEIFA')\n",
    "plt.ylabel('Youth Offences')\n",
    "plt.show()"
   ]
  },
  {
   "cell_type": "code",
   "execution_count": null,
   "metadata": {},
   "outputs": [],
   "source": []
  }
 ],
 "metadata": {
  "kernelspec": {
   "display_name": "Python 3",
   "language": "python",
   "name": "python3"
  },
  "language_info": {
   "codemirror_mode": {
    "name": "ipython",
    "version": 3
   },
   "file_extension": ".py",
   "mimetype": "text/x-python",
   "name": "python",
   "nbconvert_exporter": "python",
   "pygments_lexer": "ipython3",
   "version": "3.6.4"
  }
 },
 "nbformat": 4,
 "nbformat_minor": 2
}
